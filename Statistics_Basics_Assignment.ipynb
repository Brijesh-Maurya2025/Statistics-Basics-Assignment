{
  "nbformat": 4,
  "nbformat_minor": 0,
  "metadata": {
    "colab": {
      "provenance": []
    },
    "kernelspec": {
      "name": "python3",
      "display_name": "Python 3"
    },
    "language_info": {
      "name": "python"
    }
  },
  "cells": [
    {
      "cell_type": "markdown",
      "source": [
        "#                              ## Statistics Assignment##"
      ],
      "metadata": {
        "id": "Ga9rDc4qF5yW"
      }
    },
    {
      "cell_type": "markdown",
      "source": [
        "#*Theory Questions*"
      ],
      "metadata": {
        "id": "WqTROwmhGwt_"
      }
    },
    {
      "cell_type": "markdown",
      "source": [
        "\n",
        "##**Q1. What is statistics, and why is it important?**\n",
        "\n",
        "\n",
        "Statistics is the branch of mathematics that deals with collecting, organizing, analyzing, interpreting, and presenting data.\n",
        "\n",
        "Importance: It helps in making informed decisions, predicting trends, conducting research, and understanding real-world phenomena.\n",
        "\n",
        "\n",
        "##**Q2. What are the two main types of statistics?**\n",
        "\n",
        "\n",
        "\n",
        "Descriptive Statistics\n",
        "\n",
        "\n",
        "\n",
        "Inferential Statistics\n",
        "\n",
        "\n",
        "\n",
        "\n",
        "##**Q3. What are descriptive statistics?**\n",
        "\n",
        "Descriptive statistics summarize and describe the features of a dataset (e.g., mean, median, mode, standard deviation, graphs).\n",
        "\n",
        "\n",
        "##**Q4. What is inferential statistics?**\n",
        "\n",
        "Inferential statistics make predictions or generalizations about a larger population based on a sample (e.g., hypothesis testing, regression analysis).\n",
        "\n",
        "\n",
        "##**Q5. What is sampling in statistics?**\n",
        "\n",
        "Sampling is selecting a subset of individuals or items from a larger population to estimate the properties of the entire group.\n",
        "\n",
        "\n",
        "##**Q6. What are the different types of sampling methods?**\n",
        "\n",
        "\n",
        "\n",
        "Probability sampling: Random, systematic, stratified, cluster\n",
        "\n",
        "\n",
        "\n",
        "Non-probability sampling: Convenience, judgmental, snowball, quota\n",
        "\n",
        "\n",
        "\n",
        "\n",
        "##**Q7. What is the difference between random and non-random sampling?**\n",
        "\n",
        "\n",
        "\n",
        "Random sampling: Every member has an equal chance of being selected.\n",
        "\n",
        "\n",
        "\n",
        "Non-random sampling: Selection is based on convenience or judgment; not every member has a known chance.\n",
        "\n",
        "\n",
        "\n",
        "\n",
        "##**Q8.  and give examples of qualitative and quantitative data.**\n",
        "\n",
        "\n",
        "\n",
        "Qualitative data (categorical): Describes qualities (e.g. color, gender).\n",
        "\n",
        "\n",
        "\n",
        "Quantitative data (numerical): Measurable numbers (e.g. height, weight, income).\n",
        "\n",
        "\n",
        "\n",
        "\n",
        "##**Q9. What are the different types of data in statistics?**\n",
        "\n",
        "\n",
        "\n",
        "Qualitative (categorical): Nominal, ordinal\n",
        "\n",
        "\n",
        "\n",
        "Quantitative (numerical): Interval, ratio\n",
        "\n",
        "\n",
        "\n",
        "\n",
        "##**Q10. Explain nominal, ordinal, interval, and ratio levels of measurement.**\n",
        "\n",
        "\n",
        "\n",
        "Nominal: Categories without order (e.g. hair color)\n",
        "\n",
        "\n",
        "\n",
        "Ordinal: Ordered categories (e.g. ratings: good, better, best)\n",
        "\n",
        "\n",
        "\n",
        "Interval: Ordered, equal differences, no true zero (e.g. temperature in °C)\n",
        "\n",
        "\n",
        "\n",
        "Ratio: Ordered, equal intervals, true zero (e.g. height, weight)\n",
        "\n",
        "\n",
        "\n",
        "\n",
        "##**Q11. What is the measure of central tendency?**\n",
        "\n",
        "A single value representing the center of a data set (e.g. mean, median, mode).\n",
        "\n",
        "\n",
        "**Q12. Define mean, median, and mode.**\n",
        "\n",
        "\n",
        "\n",
        "Mean: Average of all data points\n",
        "\n",
        "\n",
        "\n",
        "Median: Middle value when data is sorted\n",
        "\n",
        "\n",
        "\n",
        "Mode: Most frequently occurring value\n",
        "\n",
        "\n",
        "\n",
        "\n",
        "##**Q13. What is the significance of the measure of central tendency?**\n",
        "\n",
        "It summarizes the data into one representative value, making it easier to understand the data's center or typical value.\n",
        "\n",
        "\n",
        "##**Q14. What is variance, and how is it calculated?**\n",
        "\n",
        "Variance is the average squared deviation of each data point from the mean.\n",
        "\n",
        "Formula (for population):\n",
        "\n",
        "σ2=∑(xi−μ)2N\\sigma^2 = \\frac{\\sum (x_i - \\mu)^2}{N}σ2=N∑(xi​−μ)2​\n",
        "\n",
        "##**Q15. What is standard deviation, and why is it important?**\n",
        "\n",
        "Standard deviation is the square root of the variance. It indicates the spread or dispersion of the data around the mean.\n",
        "\n",
        "\n",
        "##**Q16. Define and explain the term range in statistics.**\n",
        "\n",
        "Range is the difference between the largest and smallest value in the data set.\n",
        "\n",
        "Range = Max - Min\n",
        "\n",
        "\n",
        "##**Q17. What is the difference between variance and standard deviation?**\n",
        "\n",
        "\n",
        "\n",
        "Variance is the average squared deviations.\n",
        "\n",
        "\n",
        "\n",
        "Standard deviation is the square root of variance, bringing the units back to the original scale.\n",
        "\n",
        "\n",
        "\n",
        "\n",
        "##**Q18. What is skewness in a dataset?**\n",
        "\n",
        "Skewness is a measure of asymmetry in the data distribution.\n",
        "\n",
        "\n",
        "##**Q19. What does it mean if a dataset is positively or negatively skewed?**\n",
        "\n",
        "\n",
        "\n",
        "Positively skewed: Tail on the right; mean > median\n",
        "\n",
        "\n",
        "\n",
        "Negatively skewed: Tail on the left; mean < median\n",
        "\n",
        "\n",
        "\n",
        "\n",
        "##**Q20. Define and explain kurtosis.**\n",
        "\n",
        "Kurtosis describes the “peakedness” or flatness of a distribution.\n",
        "\n",
        "\n",
        "\n",
        "High kurtosis (leptokurtic): Sharp peak and heavy tails\n",
        "\n",
        "\n",
        "\n",
        "Low kurtosis (platykurtic): Flatter top and lighter tails\n",
        "\n",
        "\n",
        "\n",
        "\n",
        "##**Q21. What is the purpose of covariance?**\n",
        "\n",
        "Covariance indicates the direction of the linear relationship between two variables (whether they increase or decrease together).\n",
        "\n",
        "\n",
        "##**Q22. What does correlation measure in statistics?**\n",
        "\n",
        "Correlation measures the strength and direction of the linear relationship between two variables, standardized between -1 and +1.\n",
        "\n",
        "\n",
        "##**Q23. What is the difference between covariance and correlation?**\n",
        "\n",
        "\n",
        "\n",
        "Covariance: Raw measure of relationship; depends on units.\n",
        "\n",
        "\n",
        "\n",
        "Correlation: Scaled version of covariance; unitless and easier to interpret.\n",
        "\n",
        "##**Q24.What are some real-world applications of statistics?**\n",
        "\n",
        "Statistics are applied in countless real-world situations to analyze data, identify trends, and make informed decisions. They are used in business for market research, quality control, and financial forecasting. In healthcare, statistics are crucial for clinical trials, disease tracking, and understanding treatment effectiveness. They also play a vital role in environmental science, government, and even in personal finance."
      ],
      "metadata": {
        "id": "VM4bRGhZrANA"
      }
    },
    {
      "cell_type": "markdown",
      "source": [
        "# Pratical Questions"
      ],
      "metadata": {
        "id": "F5v-l5QZGZKl"
      }
    },
    {
      "cell_type": "markdown",
      "source": [
        "Q1. How do you calculate the mean, median, and mode of a datase?"
      ],
      "metadata": {
        "id": "WDAoL9eTRNMe"
      }
    },
    {
      "cell_type": "code",
      "source": [
        "import statistics\n",
        "\n",
        "data = [2, 4, 4, 6, 8, 10, 10, 10, 12, 14]\n",
        "\n",
        "mean = statistics.mean(data)\n",
        "median = statistics.median(data)\n",
        "mode = statistics.mode(data)\n",
        "\n",
        "print(f\"Mean: {mean}\")\n",
        "print(f\"Median: {median}\")\n",
        "print(f\"Mode: {mode}\")\n"
      ],
      "metadata": {
        "colab": {
          "base_uri": "https://localhost:8080/"
        },
        "id": "3Z_lZWGXRWZx",
        "outputId": "2b61dca7-4c1e-42e3-90de-e17374df8a8e"
      },
      "execution_count": null,
      "outputs": [
        {
          "output_type": "stream",
          "name": "stdout",
          "text": [
            "Mean: 8\n",
            "Median: 9.0\n",
            "Mode: 10\n"
          ]
        }
      ]
    },
    {
      "cell_type": "markdown",
      "source": [
        "Q2. Write a Python program to compute the variance and standard deviation of a dataset."
      ],
      "metadata": {
        "id": "q_QtZscpRf-_"
      }
    },
    {
      "cell_type": "code",
      "source": [
        "import statistics\n",
        "\n",
        "data = [2, 4, 4, 6, 8, 10, 10, 10, 12, 14]\n",
        "\n",
        "variance = statistics.variance(data)\n",
        "std_dev = statistics.stdev(data)\n",
        "\n",
        "print(f\"Variance: {variance}\")\n",
        "print(f\"Standard Deviation: {std_dev}\")\n"
      ],
      "metadata": {
        "colab": {
          "base_uri": "https://localhost:8080/"
        },
        "id": "pI1IxCRMRXrE",
        "outputId": "32b4afa1-bf3a-4111-d396-901d5588b80b"
      },
      "execution_count": null,
      "outputs": [
        {
          "output_type": "stream",
          "name": "stdout",
          "text": [
            "Variance: 15.11111111111111\n",
            "Standard Deviation: 3.8873012632302\n"
          ]
        }
      ]
    },
    {
      "cell_type": "markdown",
      "source": [
        "Q3. Create a dataset and classify it into nominal, ordinal, interval, and ratio types."
      ],
      "metadata": {
        "id": "A836rP0MRqsW"
      }
    },
    {
      "cell_type": "code",
      "source": [
        "dataset = {\n",
        "    'Nominal': ['Red', 'Green', 'Blue'],  # Categories without order\n",
        "    'Ordinal': ['Poor', 'Average', 'Good', 'Excellent'],  # Ordered categories\n",
        "    'Interval': [20, 25, 30, 35],  # Temperature (no true zero)\n",
        "    'Ratio': [1.5, 3.0, 6.0, 9.0]  # Height, weight (has a true zero)\n",
        "}\n"
      ],
      "metadata": {
        "id": "ckitWIYYRm4O"
      },
      "execution_count": null,
      "outputs": []
    },
    {
      "cell_type": "markdown",
      "source": [
        "Q4. Implement sampling techniques like random sampling and stratified sampling?"
      ],
      "metadata": {
        "id": "yE4Mbr13R67j"
      }
    },
    {
      "cell_type": "code",
      "source": [
        "import pandas as pd\n",
        "from sklearn.model_selection import train_test_split\n",
        "\n",
        "# Example dataset\n",
        "df = pd.DataFrame({\n",
        "    'ID': range(1, 21),\n",
        "    'Group': ['A']*10 + ['B']*10\n",
        "})\n",
        "\n",
        "# Random sampling\n",
        "random_sample = df.sample(n=5)\n",
        "\n",
        "# Stratified sampling\n",
        "stratified_sample, _ = train_test_split(df, stratify=df['Group'], test_size=0.25)\n",
        "\n",
        "print(\"Random Sample:\\n\", random_sample)\n",
        "print(\"\\nStratified Sample:\\n\", stratified_sample)\n"
      ],
      "metadata": {
        "colab": {
          "base_uri": "https://localhost:8080/"
        },
        "id": "7QFm0hiQRzRP",
        "outputId": "9244a81b-d042-409a-9417-d91bb552d281"
      },
      "execution_count": null,
      "outputs": [
        {
          "output_type": "stream",
          "name": "stdout",
          "text": [
            "Random Sample:\n",
            "     ID Group\n",
            "0    1     A\n",
            "2    3     A\n",
            "11  12     B\n",
            "8    9     A\n",
            "5    6     A\n",
            "\n",
            "Stratified Sample:\n",
            "     ID Group\n",
            "9   10     A\n",
            "16  17     B\n",
            "18  19     B\n",
            "14  15     B\n",
            "2    3     A\n",
            "17  18     B\n",
            "15  16     B\n",
            "19  20     B\n",
            "10  11     B\n",
            "0    1     A\n",
            "8    9     A\n",
            "13  14     B\n",
            "4    5     A\n",
            "5    6     A\n",
            "1    2     A\n"
          ]
        }
      ]
    },
    {
      "cell_type": "markdown",
      "source": [
        "Q5. Write a Python function to calculate the range of a dataset."
      ],
      "metadata": {
        "id": "g2Jc2P_qSGKN"
      }
    },
    {
      "cell_type": "code",
      "source": [
        "def calculate_range(data):\n",
        "    return max(data) - min(data)\n",
        "\n",
        "data = [5, 8, 12, 20, 22]\n",
        "print(\"Range:\", calculate_range(data))\n"
      ],
      "metadata": {
        "id": "VhH3zl1KSCM2"
      },
      "execution_count": null,
      "outputs": []
    },
    {
      "cell_type": "markdown",
      "source": [
        "Q6. Create a dataset and plot its histogram to visualize skewness."
      ],
      "metadata": {
        "id": "hkUA2duKSPQu"
      }
    },
    {
      "cell_type": "code",
      "source": [
        "import matplotlib.pyplot as plt\n",
        "import numpy as np\n",
        "\n",
        "# Skewed dataset (right skew)\n",
        "data = np.random.exponential(scale=2, size=1000)\n",
        "\n",
        "plt.hist(data, bins=30, edgecolor='black')\n",
        "plt.title('Histogram to Visualize Skewness')\n",
        "plt.xlabel('Values')\n",
        "plt.ylabel('Frequency')\n",
        "plt.show()\n"
      ],
      "metadata": {
        "colab": {
          "base_uri": "https://localhost:8080/",
          "height": 472
        },
        "id": "eueZADclSSEf",
        "outputId": "9c32f122-fee6-4e86-98a4-2553f0b33343"
      },
      "execution_count": null,
      "outputs": [
        {
          "output_type": "display_data",
          "data": {
            "text/plain": [
              "<Figure size 640x480 with 1 Axes>"
            ],
            "image/png": "[encoded data removed]"
          },
          "metadata": {}
        }
      ]
    },
    {
      "cell_type": "markdown",
      "source": [
        "Q7. Calculate skewness and kurtosis of a dataset using Python libraries."
      ],
      "metadata": {
        "id": "53MbhDHDSWhS"
      }
    },
    {
      "cell_type": "code",
      "source": [
        "from scipy.stats import skew, kurtosis\n",
        "\n",
        "print(\"Skewness:\", skew(data))\n",
        "print(\"Kurtosis:\", kurtosis(data))  # Excess kurtosis (normal distribution = 0)\n"
      ],
      "metadata": {
        "colab": {
          "base_uri": "https://localhost:8080/"
        },
        "id": "vzKzDWPYSVkg",
        "outputId": "8736a3de-70d9-434f-d84f-6158043f3006"
      },
      "execution_count": null,
      "outputs": [
        {
          "output_type": "stream",
          "name": "stdout",
          "text": [
            "Skewness: 2.234036590610806\n",
            "Kurtosis: 8.22315678993719\n"
          ]
        }
      ]
    },
    {
      "cell_type": "markdown",
      "source": [
        "Q8. Generate a dataset and demonstrate positive and negative skewness."
      ],
      "metadata": {
        "id": "p8bLwSrKSkWp"
      }
    },
    {
      "cell_type": "code",
      "source": [
        "# Positive skew (right)\n",
        "pos_skew = np.random.exponential(scale=2, size=1000)\n",
        "\n",
        "# Negative skew (left)\n",
        "neg_skew = -np.random.exponential(scale=2, size=1000) + 10\n",
        "\n",
        "# Plot both\n",
        "plt.figure(figsize=(12, 5))\n",
        "\n",
        "plt.subplot(1, 2, 1)\n",
        "plt.hist(pos_skew, bins=30, color='orange', edgecolor='black')\n",
        "plt.title('Positive Skew')\n",
        "\n",
        "plt.subplot(1, 2, 2)\n",
        "plt.hist(neg_skew, bins=30, color='blue', edgecolor='black')\n",
        "plt.title('Negative Skew')\n",
        "\n",
        "plt.show()\n"
      ],
      "metadata": {
        "colab": {
          "base_uri": "https://localhost:8080/",
          "height": 468
        },
        "id": "Z4MPShiASjGQ",
        "outputId": "6381c4f1-56b0-4f37-ca07-bc773f0164ae"
      },
      "execution_count": null,
      "outputs": [
        {
          "output_type": "display_data",
          "data": {
            "text/plain": [
              "<Figure size 1200x500 with 2 Axes>"
            ],
            "image/png": "[encoded data removed]"
          },
          "metadata": {}
        }
      ]
    },
    {
      "cell_type": "markdown",
      "source": [
        "Q9. Write a Python script to calculate covariance between two datasets."
      ],
      "metadata": {
        "id": "MF-zJFtGSyZF"
      }
    },
    {
      "cell_type": "code",
      "source": [
        "import numpy as np\n",
        "\n",
        "x = np.random.normal(10, 2, 100)\n",
        "y = x + np.random.normal(0, 1, 100)  # Strong positive covariance\n",
        "\n",
        "cov_matrix = np.cov(x, y)\n",
        "print(\"Covariance matrix:\\n\", cov_matrix)\n",
        "print(\"Covariance between x and y:\", cov_matrix[0, 1])\n"
      ],
      "metadata": {
        "colab": {
          "base_uri": "https://localhost:8080/"
        },
        "id": "WcibIEq5Svr8",
        "outputId": "583ced02-25ca-44d3-8b51-a680a6827498"
      },
      "execution_count": null,
      "outputs": [
        {
          "output_type": "stream",
          "name": "stdout",
          "text": [
            "Covariance matrix:\n",
            " [[4.52906767 4.31563205]\n",
            " [4.31563205 4.94733843]]\n",
            "Covariance between x and y: 4.315632051074001\n"
          ]
        }
      ]
    },
    {
      "cell_type": "markdown",
      "source": [
        "Q10. Write a Python script to calculate the correlation coefficient between two datasets."
      ],
      "metadata": {
        "id": "nPQ7_t4fTWem"
      }
    },
    {
      "cell_type": "code",
      "source": [
        "correlation = np.corrcoef(x, y)\n",
        "print(\"Correlation matrix:\\n\", correlation)\n",
        "print(\"Correlation coefficient between x and y:\", correlation[0, 1])\n"
      ],
      "metadata": {
        "id": "h1fWIJ_FTIsC"
      },
      "execution_count": null,
      "outputs": []
    },
    {
      "cell_type": "markdown",
      "source": [
        "Q11.  Create a scatter plot to visualize the relationship between two variables."
      ],
      "metadata": {
        "id": "hYf3N5KoU7GX"
      }
    },
    {
      "cell_type": "code",
      "source": [
        "import matplotlib.pyplot as plt\n",
        "\n",
        "# Sample data\n",
        "x = [1, 2, 3, 4, 5, 6]\n",
        "y = [2, 4, 1, 8, 7, 5]\n",
        "\n",
        "# Create scatter plot\n",
        "plt.scatter(x, y, color='blue', marker='o')\n",
        "plt.title('Scatter Plot of X vs Y')\n",
        "plt.xlabel('X Values')\n",
        "plt.ylabel('Y Values')\n",
        "plt.grid(True)\n",
        "plt.show()\n"
      ],
      "metadata": {
        "id": "7JZ8juxhVE_P"
      },
      "execution_count": null,
      "outputs": []
    },
    {
      "cell_type": "markdown",
      "source": [
        "Q12. Implement and compare simple random sampling and systematic sampling ."
      ],
      "metadata": {
        "id": "hv7x-E4vVKpI"
      }
    },
    {
      "cell_type": "code",
      "source": [
        "import random\n",
        "import numpy as np\n",
        "\n",
        "data = list(range(1, 101))  # population of 100\n",
        "\n",
        "# Simple Random Sampling (sample of size 10)\n",
        "simple_random_sample = random.sample(data, 10)\n",
        "\n",
        "# Systematic Sampling (sample every k-th element)\n",
        "k = len(data) // 10\n",
        "systematic_sample = [data[i] for i in range(0, len(data), k)][:10]\n",
        "\n",
        "print(\"Simple Random Sample:\", simple_random_sample)\n",
        "print(\"Systematic Sample:\", systematic_sample)\n"
      ],
      "metadata": {
        "colab": {
          "base_uri": "https://localhost:8080/"
        },
        "id": "o2D9Kfq7VU_7",
        "outputId": "5daec648-fb08-4c6b-daa8-5588dfcbcd68"
      },
      "execution_count": 4,
      "outputs": [
        {
          "output_type": "stream",
          "name": "stdout",
          "text": [
            "Simple Random Sample: [46, 10, 91, 68, 39, 81, 57, 53, 11, 73]\n",
            "Systematic Sample: [1, 11, 21, 31, 41, 51, 61, 71, 81, 91]\n"
          ]
        }
      ]
    },
    {
      "cell_type": "markdown",
      "source": [
        "Q13.  Calculate the mean, median, and mode of grouped data ."
      ],
      "metadata": {
        "id": "GBDgIciKVZy4"
      }
    },
    {
      "cell_type": "code",
      "source": [
        "from statistics import mode\n",
        "import numpy as np\n",
        "\n",
        "# Grouped data: (class midpoint, frequency)\n",
        "grouped_data = [(5, 2), (15, 5), (25, 8), (35, 4), (45, 1)]\n",
        "\n",
        "# Mean\n",
        "total_fx = sum(mid * freq for mid, freq in grouped_data)\n",
        "total_f = sum(freq for _, freq in grouped_data)\n",
        "mean = total_fx / total_f\n",
        "\n",
        "# Median (need cumulative frequency)\n",
        "cumulative_freq = 0\n",
        "median_class = None\n",
        "for i, (mid, freq) in enumerate(grouped_data):\n",
        "    cumulative_freq += freq\n",
        "    if cumulative_freq >= total_f / 2:\n",
        "        median_class = (i, mid, freq, cumulative_freq)\n",
        "        break\n",
        "\n",
        "# Mode - find the class with highest frequency\n",
        "mode_class = max(grouped_data, key=lambda x: x[1])[0]\n",
        "\n",
        "print(\"Mean:\", round(mean, 2))\n",
        "print(\"Estimated Mode (Midpoint of modal class):\", mode_class)\n",
        "print(\"Approx Median (class midpoint):\", median_class[1])\n"
      ],
      "metadata": {
        "colab": {
          "base_uri": "https://localhost:8080/"
        },
        "id": "DINJXiQ2VfoU",
        "outputId": "204f74e9-a886-46e7-d9f4-0eabbb57975f"
      },
      "execution_count": 1,
      "outputs": [
        {
          "output_type": "stream",
          "name": "stdout",
          "text": [
            "Mean: 23.5\n",
            "Estimated Mode (Midpoint of modal class): 25\n",
            "Approx Median (class midpoint): 25\n"
          ]
        }
      ]
    },
    {
      "cell_type": "markdown",
      "source": [
        "Q14.  Simulate data using Python and calculate its central tendency and dispersion.\n",
        "\n",
        "\n"
      ],
      "metadata": {
        "id": "we1R7raQVq4G"
      }
    },
    {
      "cell_type": "code",
      "source": [
        "import numpy as np\n",
        "import statistics as stats\n",
        "\n",
        "# Simulate data: 100 random values from normal distribution\n",
        "data = np.random.normal(loc=50, scale=10, size=100)\n",
        "\n",
        "mean = np.mean(data)\n",
        "median = np.median(data)\n",
        "mode = stats.mode(data)\n",
        "std_dev = np.std(data)\n",
        "variance = np.var(data)\n",
        "range_val = np.ptp(data)\n",
        "\n",
        "print(\"Mean:\", round(mean, 2))\n",
        "print(\"Median:\", round(median, 2))\n",
        "print(\"Mode:\", round(mode, 2))\n",
        "print(\"Standard Deviation:\", round(std_dev, 2))\n",
        "print(\"Variance:\", round(variance, 2))\n",
        "print(\"Range:\", round(range_val, 2))\n"
      ],
      "metadata": {
        "colab": {
          "base_uri": "https://localhost:8080/"
        },
        "id": "Mg0JSP56VkCz",
        "outputId": "66b783f3-0608-42f0-d2ac-a67565052985"
      },
      "execution_count": 5,
      "outputs": [
        {
          "output_type": "stream",
          "name": "stdout",
          "text": [
            "Mean: 50.88\n",
            "Median: 51.64\n",
            "Mode: 62.79\n",
            "Standard Deviation: 9.22\n",
            "Variance: 85.06\n",
            "Range: 52.09\n"
          ]
        }
      ]
    },
    {
      "cell_type": "markdown",
      "source": [
        "Q15. Use NumPy or pandas to summarize a dataset’s descriptive statistics ."
      ],
      "metadata": {
        "id": "jUcJ9rgjV1d8"
      }
    },
    {
      "cell_type": "code",
      "source": [
        "import pandas as pd\n",
        "import numpy as np\n",
        "\n",
        "# Create a sample dataset\n",
        "df = pd.DataFrame({\n",
        "    'Age': np.random.randint(18, 60, size=100),\n",
        "    'Salary': np.random.randint(20000, 80000, size=100)\n",
        "})\n",
        "\n",
        "# Descriptive statistics\n",
        "print(df.describe())\n"
      ],
      "metadata": {
        "colab": {
          "base_uri": "https://localhost:8080/"
        },
        "id": "OYSmHQ2RWfCC",
        "outputId": "dcef180e-0df8-49ab-bb34-32044d75f0d6"
      },
      "execution_count": 6,
      "outputs": [
        {
          "output_type": "stream",
          "name": "stdout",
          "text": [
            "              Age        Salary\n",
            "count  100.000000    100.000000\n",
            "mean    35.730000  52334.600000\n",
            "std     11.752373  16969.670382\n",
            "min     18.000000  20581.000000\n",
            "25%     26.000000  37534.000000\n",
            "50%     37.000000  54973.000000\n",
            "75%     43.500000  65712.250000\n",
            "max     58.000000  79113.000000\n"
          ]
        }
      ]
    },
    {
      "cell_type": "markdown",
      "source": [
        "Q16. Plot a boxplot to understand the spread and identify outliers ."
      ],
      "metadata": {
        "id": "DOTl4x--WkmA"
      }
    },
    {
      "cell_type": "code",
      "source": [
        "import matplotlib.pyplot as plt\n",
        "\n",
        "df.boxplot(column='Salary')\n",
        "plt.title('Boxplot of Salary')\n",
        "plt.show()\n"
      ],
      "metadata": {
        "colab": {
          "base_uri": "https://localhost:8080/",
          "height": 452
        },
        "id": "vwpRmgFuWpsn",
        "outputId": "af51e7e7-ed6a-403e-abc1-cb724eb58587"
      },
      "execution_count": 7,
      "outputs": [
        {
          "output_type": "display_data",
          "data": {
            "text/plain": [
              "<Figure size 640x480 with 1 Axes>"
            ],
            "image/png": "[encoded data removed]"
          },
          "metadata": {}
        }
      ]
    },
    {
      "cell_type": "markdown",
      "source": [
        "Q17. Calculate the interquartile range (IQR) of a dataset ."
      ],
      "metadata": {
        "id": "ONmsPUnYWyi7"
      }
    },
    {
      "cell_type": "code",
      "source": [
        "Q1 = df['Salary'].quantile(0.25)\n",
        "Q3 = df['Salary'].quantile(0.75)\n",
        "IQR = Q3 - Q1\n",
        "\n",
        "print(\"Interquartile Range (IQR):\", IQR)\n"
      ],
      "metadata": {
        "colab": {
          "base_uri": "https://localhost:8080/"
        },
        "id": "5fhBAPa-W9UQ",
        "outputId": "fa7c6ce9-e1b8-43b6-de80-0825f982c1eb"
      },
      "execution_count": 8,
      "outputs": [
        {
          "output_type": "stream",
          "name": "stdout",
          "text": [
            "Interquartile Range (IQR): 28178.25\n"
          ]
        }
      ]
    },
    {
      "cell_type": "markdown",
      "source": [
        "Q18.  Implement Z-score normalization and explain its significance ."
      ],
      "metadata": {
        "id": "r3ddRjyNXFOv"
      }
    },
    {
      "cell_type": "code",
      "source": [
        "# Z-score normalization\n",
        "df['Salary_Z'] = (df['Salary'] - df['Salary'].mean()) / df['Salary'].std()\n",
        "\n",
        "print(df[['Salary', 'Salary_Z']].head())\n",
        "\n",
        "# Significance:\n",
        "# Z-score normalization transforms data to have a mean of 0 and std of 1, making variables comparable.\n"
      ],
      "metadata": {
        "colab": {
          "base_uri": "https://localhost:8080/"
        },
        "id": "ZFueaTyOXJ2s",
        "outputId": "3a92d4e5-e3e1-422d-ca1c-c48f2b6ad85b"
      },
      "execution_count": 9,
      "outputs": [
        {
          "output_type": "stream",
          "name": "stdout",
          "text": [
            "   Salary  Salary_Z\n",
            "0   21136 -1.838492\n",
            "1   74581  1.310951\n",
            "2   30212 -1.303655\n",
            "3   57337  0.294785\n",
            "4   45092 -0.426797\n"
          ]
        }
      ]
    },
    {
      "cell_type": "markdown",
      "source": [
        "Q19. Compare two datasets using their standard deviations ."
      ],
      "metadata": {
        "id": "ghGkIbKXXYa2"
      }
    },
    {
      "cell_type": "code",
      "source": [
        "data1 = np.random.normal(50, 5, 100)\n",
        "data2 = np.random.normal(50, 15, 100)\n",
        "\n",
        "std1 = np.std(data1)\n",
        "std2 = np.std(data2)\n",
        "\n",
        "print(\"Standard Deviation of Dataset 1:\", round(std1, 2))\n",
        "print(\"Standard Deviation of Dataset 2:\", round(std2, 2))\n",
        "\n",
        "# Larger std → more spread out data\n"
      ],
      "metadata": {
        "colab": {
          "base_uri": "https://localhost:8080/"
        },
        "id": "3LTtO6naXWGY",
        "outputId": "d8deb18a-6ddd-4947-b18b-878a58c83349"
      },
      "execution_count": 10,
      "outputs": [
        {
          "output_type": "stream",
          "name": "stdout",
          "text": [
            "Standard Deviation of Dataset 1: 4.94\n",
            "Standard Deviation of Dataset 2: 15.89\n"
          ]
        }
      ]
    },
    {
      "cell_type": "markdown",
      "source": [
        "Q20. Write a Python program to visualize covariance using a heatmap."
      ],
      "metadata": {
        "id": "JynGq-hDXeby"
      }
    },
    {
      "cell_type": "code",
      "source": [
        "import seaborn as sns\n",
        "\n",
        "cov_matrix = df.cov()\n",
        "sns.heatmap(cov_matrix, annot=True, cmap='coolwarm')\n",
        "plt.title('Covariance Matrix Heatmap')\n",
        "plt.show()\n"
      ],
      "metadata": {
        "colab": {
          "base_uri": "https://localhost:8080/",
          "height": 452
        },
        "id": "2D3DrEOzXmWB",
        "outputId": "af9e5184-7b3a-4bc8-db0f-d3f8161dc439"
      },
      "execution_count": 11,
      "outputs": [
        {
          "output_type": "display_data",
          "data": {
            "text/plain": [
              "<Figure size 640x480 with 2 Axes>"
            ],
            "image/png": "[encoded data removed]"
          },
          "metadata": {}
        }
      ]
    },
    {
      "cell_type": "markdown",
      "source": [
        "Q21. Use seaborn to create a correlation matrix for a dataset ."
      ],
      "metadata": {
        "id": "prc-0uCrXqO5"
      }
    },
    {
      "cell_type": "code",
      "source": [
        "corr_matrix = df.corr()\n",
        "sns.heatmap(corr_matrix, annot=True, cmap='Blues')\n",
        "plt.title('Correlation Matrix')\n",
        "plt.show()\n"
      ],
      "metadata": {
        "colab": {
          "base_uri": "https://localhost:8080/",
          "height": 452
        },
        "id": "GFu2_Z5iXyUo",
        "outputId": "779e8b2d-23e5-4174-f910-0c3c4ef86bd3"
      },
      "execution_count": 12,
      "outputs": [
        {
          "output_type": "display_data",
          "data": {
            "text/plain": [
              "<Figure size 640x480 with 2 Axes>"
            ],
            "image/png": "[encoded data removed]"
          },
          "metadata": {}
        }
      ]
    },
    {
      "cell_type": "markdown",
      "source": [
        "Q22. Generate a dataset and implement both variance and standard deviation computations."
      ],
      "metadata": {
        "id": "KGMFmSNkX1dJ"
      }
    },
    {
      "cell_type": "code",
      "source": [
        "data = np.random.randint(10, 100, size=50)\n",
        "\n",
        "variance = np.var(data)\n",
        "std_dev = np.std(data)\n",
        "\n",
        "print(\"Variance:\", variance)\n",
        "print(\"Standard Deviation:\", std_dev)\n"
      ],
      "metadata": {
        "colab": {
          "base_uri": "https://localhost:8080/"
        },
        "id": "ykPeFVPtYGst",
        "outputId": "819eee72-ee38-45db-dffe-811fc830c270"
      },
      "execution_count": 13,
      "outputs": [
        {
          "output_type": "stream",
          "name": "stdout",
          "text": [
            "Variance: 689.8736\n",
            "Standard Deviation: 26.26544498004936\n"
          ]
        }
      ]
    },
    {
      "cell_type": "markdown",
      "source": [
        "Q23. Visualize skewness and kurtosis using Python libraries like matplotlib or seaborn."
      ],
      "metadata": {
        "id": "V7o-h-KxX7nG"
      }
    },
    {
      "cell_type": "code",
      "source": [
        "from scipy.stats import skew, kurtosis\n",
        "\n",
        "# Histogram with KDE\n",
        "sns.histplot(df['Age'], kde=True)\n",
        "plt.title('Distribution of Age')\n",
        "plt.show()\n",
        "\n",
        "print(\"Skewness:\", skew(df['Age']))\n",
        "print(\"Kurtosis:\", kurtosis(df['Age']))\n"
      ],
      "metadata": {
        "colab": {
          "base_uri": "https://localhost:8080/",
          "height": 507
        },
        "id": "CCq-ZO0MYOzd",
        "outputId": "1b3242cd-c756-42a0-884d-1c9bfdc306bc"
      },
      "execution_count": 14,
      "outputs": [
        {
          "output_type": "display_data",
          "data": {
            "text/plain": [
              "<Figure size 640x480 with 1 Axes>"
            ],
            "image/png": "[encoded data removed]"
          },
          "metadata": {}
        },
        {
          "output_type": "stream",
          "name": "stdout",
          "text": [
            "Skewness: 0.12577579344879253\n",
            "Kurtosis: -1.0373127557441106\n"
          ]
        }
      ]
    },
    {
      "cell_type": "markdown",
      "source": [
        "Q24.  Implement the Pearson and Spearman correlation coefficients for a dataset."
      ],
      "metadata": {
        "id": "Z1yq6-kbX_5E"
      }
    },
    {
      "cell_type": "code",
      "source": [
        "from scipy.stats import pearsonr, spearmanr\n",
        "\n",
        "# Pearson correlation\n",
        "pearson_corr, _ = pearsonr(df['Age'], df['Salary'])\n",
        "# Spearman correlation\n",
        "spearman_corr, _ = spearmanr(df['Age'], df['Salary'])\n",
        "\n",
        "print(\"Pearson Correlation:\", pearson_corr)\n",
        "print(\"Spearman Correlation:\", spearman_corr)\n"
      ],
      "metadata": {
        "colab": {
          "base_uri": "https://localhost:8080/"
        },
        "id": "UZB2QhX7YP9E",
        "outputId": "de007819-4585-46b7-8bea-c1cc401ed547"
      },
      "execution_count": 15,
      "outputs": [
        {
          "output_type": "stream",
          "name": "stdout",
          "text": [
            "Pearson Correlation: -0.03360971741430776\n",
            "Spearman Correlation: -0.04310015297444769\n"
          ]
        }
      ]
    }
  ]
}